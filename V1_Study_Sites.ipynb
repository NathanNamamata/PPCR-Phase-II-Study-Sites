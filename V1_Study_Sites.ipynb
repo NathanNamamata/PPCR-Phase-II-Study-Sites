{
 "cells": [
  {
   "cell_type": "markdown",
   "id": "46f76d9b-c890-4a8e-8b2b-5729c17f9c14",
   "metadata": {},
   "source": [
    "Script: To Create a web map for the study sites\n",
    "Name: Nathan Namatama\n",
    "Date: 2024"
   ]
  },
  {
   "cell_type": "code",
   "execution_count": 58,
   "id": "156d1fca-4c24-4b70-b899-39a342600531",
   "metadata": {
    "tags": []
   },
   "outputs": [],
   "source": [
    "import folium\n",
    "import os\n",
    "import geopandas as gpd\n",
    "import json"
   ]
  },
  {
   "cell_type": "markdown",
   "id": "bd2274f1-df43-43ca-8253-1d74d49a3813",
   "metadata": {},
   "source": [
    "Loading a Shapefile"
   ]
  },
  {
   "cell_type": "code",
   "execution_count": 59,
   "id": "2f74d573-bede-4c02-badc-db3292af7e56",
   "metadata": {
    "tags": []
   },
   "outputs": [],
   "source": [
    "shapefile_path = r'F:\\Collecting and Analysing Data\\Maps\\Shapefiles\\Selection of Study Sites\\Study_Sites_V1.shp'"
   ]
  },
  {
   "cell_type": "code",
   "execution_count": 60,
   "id": "801f737d-115d-4c66-b1c1-6a1889275f40",
   "metadata": {
    "tags": []
   },
   "outputs": [],
   "source": [
    "Study_Sites = gpd.read_file(shapefile_path)"
   ]
  },
  {
   "cell_type": "code",
   "execution_count": 61,
   "id": "6bf63a0e-f1e1-49e9-90b8-a136d53e7ac8",
   "metadata": {},
   "outputs": [
    {
     "data": {
      "text/plain": [
       "geopandas.geodataframe.GeoDataFrame"
      ]
     },
     "execution_count": 61,
     "metadata": {},
     "output_type": "execute_result"
    }
   ],
   "source": [
    "type (Study_Sites)"
   ]
  },
  {
   "cell_type": "code",
   "execution_count": 62,
   "id": "e247ba20-119a-4080-92e6-a1f75799ad59",
   "metadata": {},
   "outputs": [],
   "source": [
    "gdf = Study_Sites"
   ]
  },
  {
   "cell_type": "code",
   "execution_count": 72,
   "id": "5bbca924-23d4-4b74-b280-b36259b37b79",
   "metadata": {
    "tags": []
   },
   "outputs": [],
   "source": [
    "Geojson_output_path = r'C:\\Users\\Naznamz\\Notebook_Study_Sites\\PPCR-Phase-II-Study-Sites\\V1_Study_Sites.geojson'\n",
    "gdf.to_file(Geojson_output_path, driver='GeoJSON')"
   ]
  },
  {
   "cell_type": "code",
   "execution_count": 73,
   "id": "786f9997-b65d-47c5-a2d8-d396fd904547",
   "metadata": {},
   "outputs": [
    {
     "data": {
      "text/plain": [
       "<Axes: >"
      ]
     },
     "execution_count": 73,
     "metadata": {},
     "output_type": "execute_result"
    },
    {
     "data": {
      "image/png": "[encoded data removed]",
      "text/plain": [
       "<Figure size 640x480 with 1 Axes>"
      ]
     },
     "metadata": {},
     "output_type": "display_data"
    }
   ],
   "source": [
    "Study_Sites.plot()"
   ]
  },
  {
   "cell_type": "markdown",
   "id": "a72546c0-3407-43f7-a90a-bf3c1d881e98",
   "metadata": {},
   "source": [
    "Create a Folium map centered at a specific location"
   ]
  },
  {
   "cell_type": "code",
   "execution_count": 74,
   "id": "a73da687-aada-4759-9463-91000a3ebc2e",
   "metadata": {
    "tags": []
   },
   "outputs": [
    {
     "ename": "SyntaxError",
     "evalue": "unmatched ')' (4036693218.py, line 4)",
     "output_type": "error",
     "traceback": [
      "\u001b[1;36m  Cell \u001b[1;32mIn[74], line 4\u001b[1;36m\u001b[0m\n\u001b[1;33m    folium.GeoJson(gdf, tooltip=tooltip).add_to(m))\u001b[0m\n\u001b[1;37m                                                  ^\u001b[0m\n\u001b[1;31mSyntaxError\u001b[0m\u001b[1;31m:\u001b[0m unmatched ')'\n"
     ]
    }
   ],
   "source": [
    "m = folium.Map(height=700, location=[-14, 30], zoom_start=6)\n",
    "folium.LayerControl().add_to(m)\n",
    "tooltip = folium.features.GeoJsonTooltip(fields=['DistName', 'WardNm2020'], labels=True, sticky=False)\n",
    "folium.GeoJson(gdf, tooltip=tooltip).add_to(m))\n",
    "m"
   ]
  },
  {
   "cell_type": "markdown",
   "id": "c8f544e9-8ff5-4c43-ac4f-6e84015441f8",
   "metadata": {},
   "source": [
    "Add shapefile data to the map"
   ]
  },
  {
   "cell_type": "markdown",
   "id": "d4db4335-4a8a-406c-9ff1-a00719e6079a",
   "metadata": {
    "tags": []
   },
   "source": [
    "folium.GeoJson(gdf, tooltip=folium.GeoJsonTooltip(fields=['DistName', 'WardNm2020'], labels=True, sticky=True)).add_to(m)"
   ]
  },
  {
   "cell_type": "markdown",
   "id": "f1cc6a50-9d11-4441-9678-b9ae52ecb11f",
   "metadata": {},
   "source": [
    " Add tiles as background"
   ]
  },
  {
   "cell_type": "code",
   "execution_count": 75,
   "id": "bd973c6e-8ae0-4e37-b157-b97d26f6a7e0",
   "metadata": {
    "scrolled": true,
    "tags": []
   },
   "outputs": [
    {
     "data": {
      "text/plain": [
       "<folium.map.Popup at 0x17546aeab80>"
      ]
     },
     "execution_count": 75,
     "metadata": {},
     "output_type": "execute_result"
    }
   ],
   "source": [
    "html = Study_Sites.to_html()\n",
    "popup = folium.Popup(html)\n",
    "popup.add_to(m)"
   ]
  },
  {
   "cell_type": "markdown",
   "id": "419aaeba-be40-4b7f-a939-1078e18d50bb",
   "metadata": {},
   "source": [
    "Specify the path where you want to save the map HTML file"
   ]
  },
  {
   "cell_type": "code",
   "execution_count": 76,
   "id": "316aac54-9edb-4299-8076-8f637f4a9434",
   "metadata": {
    "tags": []
   },
   "outputs": [],
   "source": [
    "output_path_html = r'C:\\Users\\Naznamz\\Notebook_Study_Sites\\PPCR-Phase-II-Study-Sites\\V1_Study_Sites.html'"
   ]
  },
  {
   "cell_type": "markdown",
   "id": "c1742ea2-83b7-46e0-89a1-dec1ab7b641b",
   "metadata": {},
   "source": [
    "Ensure the directory exists, if not create it"
   ]
  },
  {
   "cell_type": "code",
   "execution_count": 77,
   "id": "01ee6279-2e52-4c92-928c-62d38f6cc361",
   "metadata": {
    "tags": []
   },
   "outputs": [],
   "source": [
    "output_dir = os.path.dirname(output_path)\n",
    "if not os.path.exists(output_dir):\n",
    "    os.makedirs(output_dir)"
   ]
  },
  {
   "cell_type": "markdown",
   "id": "68ff054b-00d9-4689-a5ab-581967689af9",
   "metadata": {},
   "source": [
    "Save the map to an HTML file"
   ]
  },
  {
   "cell_type": "code",
   "execution_count": 78,
   "id": "c936e983-7c5e-4984-bf8d-c535f21a3a78",
   "metadata": {
    "tags": []
   },
   "outputs": [],
   "source": [
    "m.save(output_path_html)"
   ]
  },
  {
   "cell_type": "code",
   "execution_count": null,
   "id": "516d4017-1237-44ad-bc51-03c4ba1d54f8",
   "metadata": {},
   "outputs": [],
   "source": []
  }
 ],
 "metadata": {
  "kernelspec": {
   "display_name": "LandUseLandCover_Py_3_8",
   "language": "python",
   "name": "landuselandcover_py_3_8"
  },
  "language_info": {
   "codemirror_mode": {
    "name": "ipython",
    "version": 3
   },
   "file_extension": ".py",
   "mimetype": "text/x-python",
   "name": "python",
   "nbconvert_exporter": "python",
   "pygments_lexer": "ipython3",
   "version": "3.8.18"
  },
  "widgets": {
   "application/vnd.jupyter.widget-state+json": {
    "state": {},
    "version_major": 2,
    "version_minor": 0
   }
  }
 },
 "nbformat": 4,
 "nbformat_minor": 5
}
