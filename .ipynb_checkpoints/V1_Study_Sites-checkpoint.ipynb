{
 "cells": [
  {
   "cell_type": "markdown",
   "id": "46f76d9b-c890-4a8e-8b2b-5729c17f9c14",
   "metadata": {},
   "source": [
    "Script: To Create a web map for the study sites\n",
    "Name: Nathan Namatama\n",
    "Date: 2024"
   ]
  },
  {
   "cell_type": "code",
   "execution_count": null,
   "id": "454558ec-9ab0-4cf0-96a3-48220bd72076",
   "metadata": {},
   "outputs": [],
   "source": [
    "#pip install -r r\"https://github.com/NathanNamamata/PPCR-Phase-II-Study-Sites/blob/main/requirements.txt/requirements.txt\""
   ]
  },
  {
   "cell_type": "code",
   "execution_count": 1,
   "id": "156d1fca-4c24-4b70-b899-39a342600531",
   "metadata": {
    "tags": []
   },
   "outputs": [],
   "source": [
    "import folium\n",
    "import requests\n",
    "import os\n",
    "import geopandas as gpd\n",
    "import pandas as pd\n",
    "import json\n",
    "from osgeo import gdal\n",
    "import streamlit as st\n",
    "from streamlit_folium import st_folium\n",
    "import xlrd"
   ]
  },
  {
   "cell_type": "markdown",
   "id": "6f489bb1-58a5-447b-90e2-8c2bfcb69788",
   "metadata": {},
   "source": [
    "TITLE OF THE MAP"
   ]
  },
  {
   "cell_type": "code",
   "execution_count": 2,
   "id": "0c5887dd-755b-4aea-b833-41f998811264",
   "metadata": {},
   "outputs": [],
   "source": [
    "#TITLE = 'STUDY SITES FOR PPCR PHASE II AND III IN ZAMBIA' \n",
    "#AUTHOR = 'NATHAN NAMATAMA'\n",
    "#def main():\n",
    "    #st.set_page_config(TITLE)\n",
    "    #st.title(TITLE)\n",
    "    #st.caption(AUTHOR)    "
   ]
  },
  {
   "cell_type": "markdown",
   "id": "e2d00535-600f-4d93-9705-6c6c0a5f94b4",
   "metadata": {},
   "source": [
    "Loading Excel Data"
   ]
  },
  {
   "cell_type": "code",
   "execution_count": 3,
   "id": "f07711ea-753f-448d-875e-a90e8baebcf9",
   "metadata": {},
   "outputs": [],
   "source": [
    "#df = pd.read_csv(r\"F:\\Collecting and Analysing Data\\Maps\\Tables\\Excel Tables\\Study_Sites_V1.csv\")\n",
    "#df"
   ]
  },
  {
   "cell_type": "code",
   "execution_count": 4,
   "id": "65d2da92-531c-4f10-b46a-31237eedbd11",
   "metadata": {},
   "outputs": [
    {
     "data": {
      "text/html": [
       "<div>\n",
       "<style scoped>\n",
       "    .dataframe tbody tr th:only-of-type {\n",
       "        vertical-align: middle;\n",
       "    }\n",
       "\n",
       "    .dataframe tbody tr th {\n",
       "        vertical-align: top;\n",
       "    }\n",
       "\n",
       "    .dataframe thead th {\n",
       "        text-align: right;\n",
       "    }\n",
       "</style>\n",
       "<table border=\"1\" class=\"dataframe\">\n",
       "  <thead>\n",
       "    <tr style=\"text-align: right;\">\n",
       "      <th></th>\n",
       "      <th>FID</th>\n",
       "      <th>ProvNo</th>\n",
       "      <th>PovName</th>\n",
       "      <th>DistNo</th>\n",
       "      <th>DistName</th>\n",
       "      <th>ConstNo</th>\n",
       "      <th>ConstName</th>\n",
       "      <th>WardNo2020</th>\n",
       "      <th>WardNm2020</th>\n",
       "      <th>CumuWardNo</th>\n",
       "      <th>Status</th>\n",
       "    </tr>\n",
       "  </thead>\n",
       "  <tbody>\n",
       "    <tr>\n",
       "      <th>0</th>\n",
       "      <td>0</td>\n",
       "      <td>101</td>\n",
       "      <td>CENTRAL</td>\n",
       "      <td>101001</td>\n",
       "      <td>CHIBOMBO</td>\n",
       "      <td>1010002</td>\n",
       "      <td>KEEMBE</td>\n",
       "      <td>101001018</td>\n",
       "      <td>CHITANDA</td>\n",
       "      <td>101001017</td>\n",
       "      <td>Old Ward</td>\n",
       "    </tr>\n",
       "    <tr>\n",
       "      <th>1</th>\n",
       "      <td>1</td>\n",
       "      <td>101</td>\n",
       "      <td>CENTRAL</td>\n",
       "      <td>101004</td>\n",
       "      <td>ITEZHI-TEZHI</td>\n",
       "      <td>1010005</td>\n",
       "      <td>ITEZH-ITEZHI</td>\n",
       "      <td>101004013</td>\n",
       "      <td>MBILA</td>\n",
       "      <td>101004013</td>\n",
       "      <td>Old Ward</td>\n",
       "    </tr>\n",
       "    <tr>\n",
       "      <th>2</th>\n",
       "      <td>2</td>\n",
       "      <td>101</td>\n",
       "      <td>CENTRAL</td>\n",
       "      <td>101004</td>\n",
       "      <td>ITEZHI-TEZHI</td>\n",
       "      <td>1010005</td>\n",
       "      <td>ITEZH-ITEZHI</td>\n",
       "      <td>101004012</td>\n",
       "      <td>LUUBWE</td>\n",
       "      <td>101004011</td>\n",
       "      <td>Old Ward</td>\n",
       "    </tr>\n",
       "    <tr>\n",
       "      <th>3</th>\n",
       "      <td>3</td>\n",
       "      <td>103</td>\n",
       "      <td>EASTERN</td>\n",
       "      <td>103008</td>\n",
       "      <td>SINDA</td>\n",
       "      <td>1030054</td>\n",
       "      <td>SINDA</td>\n",
       "      <td>103008001</td>\n",
       "      <td>NYAMASONKHO</td>\n",
       "      <td>103008005</td>\n",
       "      <td>Old Ward</td>\n",
       "    </tr>\n",
       "    <tr>\n",
       "      <th>4</th>\n",
       "      <td>4</td>\n",
       "      <td>104</td>\n",
       "      <td>LUAPULA</td>\n",
       "      <td>104011</td>\n",
       "      <td>SAMFYA</td>\n",
       "      <td>1040069</td>\n",
       "      <td>BANGWEULU</td>\n",
       "      <td>104011005</td>\n",
       "      <td>ISAMBA</td>\n",
       "      <td>104011005</td>\n",
       "      <td>Old Ward</td>\n",
       "    </tr>\n",
       "    <tr>\n",
       "      <th>5</th>\n",
       "      <td>5</td>\n",
       "      <td>104</td>\n",
       "      <td>LUAPULA</td>\n",
       "      <td>104010</td>\n",
       "      <td>NCHELENGE</td>\n",
       "      <td>1040068</td>\n",
       "      <td>NCHELENGE</td>\n",
       "      <td>104010002</td>\n",
       "      <td>MUNKOMBWE</td>\n",
       "      <td>104010002</td>\n",
       "      <td>Old Ward</td>\n",
       "    </tr>\n",
       "    <tr>\n",
       "      <th>6</th>\n",
       "      <td>6</td>\n",
       "      <td>106</td>\n",
       "      <td>MUCHINGA</td>\n",
       "      <td>106009</td>\n",
       "      <td>LAVUSHIMANDA</td>\n",
       "      <td>1060091</td>\n",
       "      <td>MFUWE</td>\n",
       "      <td>106009001</td>\n",
       "      <td>LULIMALA</td>\n",
       "      <td>106005010</td>\n",
       "      <td>Old Ward</td>\n",
       "    </tr>\n",
       "    <tr>\n",
       "      <th>7</th>\n",
       "      <td>7</td>\n",
       "      <td>106</td>\n",
       "      <td>MUCHINGA</td>\n",
       "      <td>106004</td>\n",
       "      <td>MAFINGA</td>\n",
       "      <td>1060089</td>\n",
       "      <td>MAFINGA</td>\n",
       "      <td>106004010</td>\n",
       "      <td>KALANGA</td>\n",
       "      <td>106004006</td>\n",
       "      <td>Old Ward</td>\n",
       "    </tr>\n",
       "    <tr>\n",
       "      <th>8</th>\n",
       "      <td>8</td>\n",
       "      <td>106</td>\n",
       "      <td>MUCHINGA</td>\n",
       "      <td>106004</td>\n",
       "      <td>MAFINGA</td>\n",
       "      <td>1060089</td>\n",
       "      <td>MAFINGA</td>\n",
       "      <td>106004004</td>\n",
       "      <td>NTONGA</td>\n",
       "      <td>106004002</td>\n",
       "      <td>Old Ward</td>\n",
       "    </tr>\n",
       "    <tr>\n",
       "      <th>9</th>\n",
       "      <td>9</td>\n",
       "      <td>106</td>\n",
       "      <td>MUCHINGA</td>\n",
       "      <td>106005</td>\n",
       "      <td>MPIKA</td>\n",
       "      <td>1060092</td>\n",
       "      <td>MPIKA</td>\n",
       "      <td>106005003</td>\n",
       "      <td>KAPAMBA</td>\n",
       "      <td>106005024</td>\n",
       "      <td>New Ward</td>\n",
       "    </tr>\n",
       "    <tr>\n",
       "      <th>10</th>\n",
       "      <td>10</td>\n",
       "      <td>107</td>\n",
       "      <td>NORTHERN</td>\n",
       "      <td>107001</td>\n",
       "      <td>CHILUBI</td>\n",
       "      <td>1070095</td>\n",
       "      <td>CHILUBI</td>\n",
       "      <td>107001020</td>\n",
       "      <td>CHISUPA</td>\n",
       "      <td>107001005</td>\n",
       "      <td>Old Ward</td>\n",
       "    </tr>\n",
       "    <tr>\n",
       "      <th>11</th>\n",
       "      <td>11</td>\n",
       "      <td>107</td>\n",
       "      <td>NORTHERN</td>\n",
       "      <td>107007</td>\n",
       "      <td>MPULUNGU</td>\n",
       "      <td>1070105</td>\n",
       "      <td>MPULUNGU</td>\n",
       "      <td>107007001</td>\n",
       "      <td>KAPEMBWA</td>\n",
       "      <td>107007001</td>\n",
       "      <td>Old Ward</td>\n",
       "    </tr>\n",
       "    <tr>\n",
       "      <th>12</th>\n",
       "      <td>12</td>\n",
       "      <td>108</td>\n",
       "      <td>NORTH-WESTERN</td>\n",
       "      <td>108010</td>\n",
       "      <td>KALUMBILA</td>\n",
       "      <td>1080117</td>\n",
       "      <td>KALUMBILA</td>\n",
       "      <td>108010011</td>\n",
       "      <td>MUKUMBI</td>\n",
       "      <td>108008016</td>\n",
       "      <td>Old Ward</td>\n",
       "    </tr>\n",
       "    <tr>\n",
       "      <th>13</th>\n",
       "      <td>13</td>\n",
       "      <td>109</td>\n",
       "      <td>SOUTHERN</td>\n",
       "      <td>109009</td>\n",
       "      <td>NAMWALA</td>\n",
       "      <td>1090133</td>\n",
       "      <td>NAMWALA</td>\n",
       "      <td>109009006</td>\n",
       "      <td>NAMWALA CENTRAL</td>\n",
       "      <td>109009001</td>\n",
       "      <td>Old Ward</td>\n",
       "    </tr>\n",
       "    <tr>\n",
       "      <th>14</th>\n",
       "      <td>14</td>\n",
       "      <td>109</td>\n",
       "      <td>SOUTHERN</td>\n",
       "      <td>109004</td>\n",
       "      <td>KALOMO</td>\n",
       "      <td>1090124</td>\n",
       "      <td>DUNDUMWEZI</td>\n",
       "      <td>109004005</td>\n",
       "      <td>OMBA</td>\n",
       "      <td>109004001</td>\n",
       "      <td>Old Ward</td>\n",
       "    </tr>\n",
       "    <tr>\n",
       "      <th>15</th>\n",
       "      <td>15</td>\n",
       "      <td>110</td>\n",
       "      <td>WESTERN</td>\n",
       "      <td>110013</td>\n",
       "      <td>SESHEKE</td>\n",
       "      <td>1100153</td>\n",
       "      <td>SESHEKE</td>\n",
       "      <td>110013006</td>\n",
       "      <td>KALOBELELWA</td>\n",
       "      <td>110013007</td>\n",
       "      <td>Old Ward</td>\n",
       "    </tr>\n",
       "    <tr>\n",
       "      <th>16</th>\n",
       "      <td>16</td>\n",
       "      <td>110</td>\n",
       "      <td>WESTERN</td>\n",
       "      <td>110012</td>\n",
       "      <td>SENANGA</td>\n",
       "      <td>1100152</td>\n",
       "      <td>SENANGA</td>\n",
       "      <td>110012013</td>\n",
       "      <td>MWANAMBUYU</td>\n",
       "      <td>110012002</td>\n",
       "      <td>Old Ward</td>\n",
       "    </tr>\n",
       "    <tr>\n",
       "      <th>17</th>\n",
       "      <td>17</td>\n",
       "      <td>110</td>\n",
       "      <td>WESTERN</td>\n",
       "      <td>110007</td>\n",
       "      <td>MONGU</td>\n",
       "      <td>1100146</td>\n",
       "      <td>MONGU CENTRAL</td>\n",
       "      <td>110007003</td>\n",
       "      <td>YETA</td>\n",
       "      <td>110007014</td>\n",
       "      <td>Old Ward</td>\n",
       "    </tr>\n",
       "  </tbody>\n",
       "</table>\n",
       "</div>"
      ],
      "text/plain": [
       "    FID  ProvNo        PovName  DistNo      DistName  ConstNo      ConstName  \\\n",
       "0     0     101        CENTRAL  101001      CHIBOMBO  1010002         KEEMBE   \n",
       "1     1     101        CENTRAL  101004  ITEZHI-TEZHI  1010005   ITEZH-ITEZHI   \n",
       "2     2     101        CENTRAL  101004  ITEZHI-TEZHI  1010005   ITEZH-ITEZHI   \n",
       "3     3     103        EASTERN  103008         SINDA  1030054          SINDA   \n",
       "4     4     104        LUAPULA  104011        SAMFYA  1040069      BANGWEULU   \n",
       "5     5     104        LUAPULA  104010     NCHELENGE  1040068      NCHELENGE   \n",
       "6     6     106       MUCHINGA  106009  LAVUSHIMANDA  1060091          MFUWE   \n",
       "7     7     106       MUCHINGA  106004       MAFINGA  1060089        MAFINGA   \n",
       "8     8     106       MUCHINGA  106004       MAFINGA  1060089        MAFINGA   \n",
       "9     9     106       MUCHINGA  106005         MPIKA  1060092          MPIKA   \n",
       "10   10     107       NORTHERN  107001       CHILUBI  1070095        CHILUBI   \n",
       "11   11     107       NORTHERN  107007      MPULUNGU  1070105       MPULUNGU   \n",
       "12   12     108  NORTH-WESTERN  108010     KALUMBILA  1080117      KALUMBILA   \n",
       "13   13     109       SOUTHERN  109009       NAMWALA  1090133        NAMWALA   \n",
       "14   14     109       SOUTHERN  109004        KALOMO  1090124     DUNDUMWEZI   \n",
       "15   15     110        WESTERN  110013       SESHEKE  1100153        SESHEKE   \n",
       "16   16     110        WESTERN  110012       SENANGA  1100152        SENANGA   \n",
       "17   17     110        WESTERN  110007         MONGU  1100146  MONGU CENTRAL   \n",
       "\n",
       "    WardNo2020       WardNm2020  CumuWardNo    Status  \n",
       "0    101001018         CHITANDA   101001017  Old Ward  \n",
       "1    101004013            MBILA   101004013  Old Ward  \n",
       "2    101004012           LUUBWE   101004011  Old Ward  \n",
       "3    103008001      NYAMASONKHO   103008005  Old Ward  \n",
       "4    104011005           ISAMBA   104011005  Old Ward  \n",
       "5    104010002        MUNKOMBWE   104010002  Old Ward  \n",
       "6    106009001         LULIMALA   106005010  Old Ward  \n",
       "7    106004010          KALANGA   106004006  Old Ward  \n",
       "8    106004004           NTONGA   106004002  Old Ward  \n",
       "9    106005003          KAPAMBA   106005024  New Ward  \n",
       "10   107001020          CHISUPA   107001005  Old Ward  \n",
       "11   107007001         KAPEMBWA   107007001  Old Ward  \n",
       "12   108010011          MUKUMBI   108008016  Old Ward  \n",
       "13   109009006  NAMWALA CENTRAL   109009001  Old Ward  \n",
       "14   109004005             OMBA   109004001  Old Ward  \n",
       "15   110013006      KALOBELELWA   110013007  Old Ward  \n",
       "16   110012013       MWANAMBUYU   110012002  Old Ward  \n",
       "17   110007003             YETA   110007014  Old Ward  "
      ]
     },
     "execution_count": 4,
     "metadata": {},
     "output_type": "execute_result"
    }
   ],
   "source": [
    "df1 = pd.read_excel(r\"F:\\\\Collecting and Analysing Data\\\\Maps\\\\Tables\\\\Excel Tables\\\\Study_Sites_V1.xls\")\n",
    "#df1['value_column'] = df1['value_column'].fillna(0) \n",
    "df1"
   ]
  },
  {
   "cell_type": "code",
   "execution_count": 5,
   "id": "29035aca-f204-4165-97d8-47da39af0a90",
   "metadata": {},
   "outputs": [],
   "source": [
    "#DistName = 'MONGU'\n",
    "#WardNm2020 = 'YETA'"
   ]
  },
  {
   "cell_type": "code",
   "execution_count": 6,
   "id": "70556f4f-3683-42c3-9ddd-1a3efe92521a",
   "metadata": {},
   "outputs": [],
   "source": [
    "#df = df[(df ['DistName'] == DistName) & (df ['WardNm2020'] == WardNm2020)]\n",
    "#df"
   ]
  },
  {
   "cell_type": "code",
   "execution_count": 7,
   "id": "4c8889b4-cffc-49d2-b068-fd48006259b2",
   "metadata": {},
   "outputs": [],
   "source": [
    "#st.write(df.shape)"
   ]
  },
  {
   "cell_type": "code",
   "execution_count": 8,
   "id": "ca8899c2-fd87-4ce0-b229-1bdb67c7067a",
   "metadata": {},
   "outputs": [],
   "source": [
    "#df.shape"
   ]
  },
  {
   "cell_type": "code",
   "execution_count": 9,
   "id": "da289e90-c382-4412-b16e-4be16965eeb2",
   "metadata": {},
   "outputs": [],
   "source": [
    "#st.write(df.head())"
   ]
  },
  {
   "cell_type": "code",
   "execution_count": 10,
   "id": "047ae71c-4b08-46d6-a42e-603e3069e7be",
   "metadata": {},
   "outputs": [],
   "source": [
    "#df.head()"
   ]
  },
  {
   "cell_type": "code",
   "execution_count": 11,
   "id": "591cd5c3-4943-414e-82bd-fde2b49c5591",
   "metadata": {},
   "outputs": [],
   "source": [
    "#df.describe()"
   ]
  },
  {
   "cell_type": "code",
   "execution_count": 12,
   "id": "45437d77-6d5c-48de-b55b-81b612fbc014",
   "metadata": {},
   "outputs": [],
   "source": [
    "#df.columns"
   ]
  },
  {
   "cell_type": "markdown",
   "id": "bd2274f1-df43-43ca-8253-1d74d49a3813",
   "metadata": {},
   "source": [
    "Loading a Shapefile"
   ]
  },
  {
   "cell_type": "code",
   "execution_count": 13,
   "id": "2f74d573-bede-4c02-badc-db3292af7e56",
   "metadata": {
    "tags": []
   },
   "outputs": [],
   "source": [
    "#shapefile_path = r'F:\\Collecting and Analysing Data\\Maps\\Shapefiles\\Selection of Study Sites\\Study_Sites_V1.shp'"
   ]
  },
  {
   "cell_type": "code",
   "execution_count": 14,
   "id": "801f737d-115d-4c66-b1c1-6a1889275f40",
   "metadata": {
    "tags": []
   },
   "outputs": [],
   "source": [
    "#gdf = gpd.read_file(shapefile_path)"
   ]
  },
  {
   "cell_type": "code",
   "execution_count": 15,
   "id": "6bf63a0e-f1e1-49e9-90b8-a136d53e7ac8",
   "metadata": {},
   "outputs": [],
   "source": [
    "#type (gdf)"
   ]
  },
  {
   "cell_type": "code",
   "execution_count": 16,
   "id": "5bbca924-23d4-4b74-b280-b36259b37b79",
   "metadata": {
    "tags": []
   },
   "outputs": [],
   "source": [
    "#Geojson_output_path = r\"C:\\Users\\Naznamz\\Notebook_Study_Sites\\PPCR-Phase-II-Study-Sites\\Study_Sites_V1.geojson\"\n",
    "#gdf.to_file(Geojson_output_path, driver='GeoJSON')"
   ]
  },
  {
   "cell_type": "code",
   "execution_count": 17,
   "id": "786f9997-b65d-47c5-a2d8-d396fd904547",
   "metadata": {
    "scrolled": true
   },
   "outputs": [],
   "source": [
    "#gdf"
   ]
  },
  {
   "cell_type": "code",
   "execution_count": 18,
   "id": "a7a9a88a-db57-4838-8c62-83cc96dd9a14",
   "metadata": {},
   "outputs": [],
   "source": [
    "#gdf.explore()"
   ]
  },
  {
   "cell_type": "code",
   "execution_count": 19,
   "id": "babab250-0c0a-4251-8f72-b31bbba66108",
   "metadata": {},
   "outputs": [],
   "source": [
    "#gdf.plot()"
   ]
  },
  {
   "cell_type": "code",
   "execution_count": 20,
   "id": "5d030fd0-66dd-4002-bc54-c619800b8e88",
   "metadata": {},
   "outputs": [],
   "source": [
    "#gdf.geometry"
   ]
  },
  {
   "cell_type": "markdown",
   "id": "b28d93fa-0aa5-4438-837d-22f80a45d33e",
   "metadata": {},
   "source": [
    "Coverting a Shapefile to GeoJson"
   ]
  },
  {
   "cell_type": "code",
   "execution_count": 21,
   "id": "d486dea9-be7f-492e-8912-d5c1cf821eef",
   "metadata": {},
   "outputs": [],
   "source": [
    "def shapefile2geojson(infile,outfile):\n",
    "    options = gdal.VectorTranslateOptions(format=\"GeoJSON\", dstSRS = \"EPSG:4326\")\n",
    "    gdal.VectorTranslate(outfile, infile, options=options)\n",
    "\n",
    "infile = r\"F:\\Collecting and Analysing Data\\Maps\\Shapefiles\\Selection of Study Sites\\Study_Sites_V1.shp\"\n",
    "geo_json_data=shapefile2geojson(infile,r\"C:\\Users\\Naznamz\\Notebook_Study_Sites\\PPCR-Phase-II-Study-Sites\\Study_Sites_V1.geojson\")\n",
    "geo_json_data"
   ]
  },
  {
   "cell_type": "code",
   "execution_count": 22,
   "id": "5f4df445-7a33-4ea7-8de6-f4f175a5cce7",
   "metadata": {},
   "outputs": [],
   "source": [
    "#m = folium.Map(width= 800, height=700, location=[-14, 30], zoom_start=6, scrollWheelZoom=False, tiles='CartoDB positron')\n",
    "#geo_json_data = requests.get(\n",
    "   # r\"https://github.com/NathanNamamata/PPCR-Phase-II-Study-Sites/blob/main/Study_Sites_V1.json\"\n",
    "#).json()\n",
    "#choropleth = folium.Choropleth(geo_json_data).add_to(m)\n",
    "#choropleth.geojson.add_to(m)\n",
    "#gdf = gpd.read_file(geo_json_data)\n",
    "#folium.GeoJson(gdf,).add_to(m)\n",
    "#folium.GeoJson(geo_json_data, zoom_on_click=True).add_to(m)\n",
    "#m"
   ]
  },
  {
   "cell_type": "markdown",
   "id": "64e7fad7-f8ad-4cf2-b704-d7e2647aaaff",
   "metadata": {},
   "source": [
    "Create a Folium map centered at a specific location"
   ]
  },
  {
   "cell_type": "code",
   "execution_count": 23,
   "id": "a73da687-aada-4759-9463-91000a3ebc2e",
   "metadata": {
    "tags": []
   },
   "outputs": [
    {
     "ename": "IndentationError",
     "evalue": "unexpected indent (2929578848.py, line 4)",
     "output_type": "error",
     "traceback": [
      "\u001b[1;36m  Cell \u001b[1;32mIn[23], line 4\u001b[1;36m\u001b[0m\n\u001b[1;33m    choropleth = folium.Choropleth(\u001b[0m\n\u001b[1;37m    ^\u001b[0m\n\u001b[1;31mIndentationError\u001b[0m\u001b[1;31m:\u001b[0m unexpected indent\n"
     ]
    }
   ],
   "source": [
    "#def display_map(df1,DistName, WardNm2020):\n",
    "   #df = df1 [(df1 ['DistName'] ==DistName) & (df ['WardNm2020'] ==WardNm2020)]\n",
    "m = folium.Map(width= 800, height=700, location=[-14, 30], zoom_start=6, scrollWheelZoom=False, tiles='CartoDB positron')\n",
    " choropleth = folium.Choropleth(\n",
    "    geo_data = geo_json_data,\n",
    "    data = df1,\n",
    "    columns=['DistName', 'WardNm2020'],\n",
    "    key_on='feature.properties.WardNm2020',\n",
    "    fill_color='YlGn',\n",
    "    fill_opacity=0.7,\n",
    "    line_opacity=0.2,\n",
    "    legend_name='Your Legend Name',\n",
    "    fillna=0   \n",
    ")\n",
    "choropleth.geojson.add_to(m)\n",
    "#choropleth.geojson.add_child(folium.features.GeoJsonTooltip(['name'],labels= False))\n",
    "#folium.TileLayer(tiles='Stamen Terrain').add_to(m)\n",
    "#folium.LayerControl().add_to(m)\n",
    "#tooltip = folium.features.GeoJsonTooltip(fields=['DistName', 'WardNm2020'], labels=True, sticky=False)\n",
    "#folium.GeoJson(r\"C:\\Users\\Naznamz\\Notebook_Study_Sites\\PPCR-Phase-II-Study-Sites\\Study_Sites_V1.geojson\").add_to(m)\n",
    "m"
   ]
  },
  {
   "cell_type": "markdown",
   "id": "ea8e13d7-94c9-44da-bd13-58d1b681ca1b",
   "metadata": {},
   "source": [
    "Add shapefile data to the map"
   ]
  },
  {
   "cell_type": "markdown",
   "id": "f1cc6a50-9d11-4441-9678-b9ae52ecb11f",
   "metadata": {},
   "source": [
    " Add tiles as background"
   ]
  },
  {
   "cell_type": "code",
   "execution_count": null,
   "id": "bd973c6e-8ae0-4e37-b157-b97d26f6a7e0",
   "metadata": {
    "scrolled": true,
    "tags": []
   },
   "outputs": [],
   "source": [
    "#Study_Sites_V1 = r\"C:\\Users\\Naznamz\\Notebook_Study_Sites\\PPCR-Phase-II-Study-Sites\\Study_Sites_V1.geojson\"\n",
    "#html = Study_Sites_V1.to_html()\n",
    "#popup = folium.Popup(html)\n",
    "#popup.add_to(m)"
   ]
  },
  {
   "cell_type": "markdown",
   "id": "419aaeba-be40-4b7f-a939-1078e18d50bb",
   "metadata": {},
   "source": [
    "Specify the path where you want to save the map HTML file"
   ]
  },
  {
   "cell_type": "code",
   "execution_count": null,
   "id": "316aac54-9edb-4299-8076-8f637f4a9434",
   "metadata": {
    "tags": []
   },
   "outputs": [],
   "source": [
    "#output_path_html = r'C:\\Users\\Naznamz\\Notebook_Study_Sites\\PPCR-Phase-II-Study-Sites\\V1_Study_Sites.html'"
   ]
  },
  {
   "cell_type": "markdown",
   "id": "c1742ea2-83b7-46e0-89a1-dec1ab7b641b",
   "metadata": {},
   "source": [
    "Ensure the directory exists, if not create it"
   ]
  },
  {
   "cell_type": "code",
   "execution_count": null,
   "id": "01ee6279-2e52-4c92-928c-62d38f6cc361",
   "metadata": {
    "tags": []
   },
   "outputs": [],
   "source": [
    "#output_dir = os.path.dirname(output_path_html)\n",
    "#if not os.path.exists(output_dir):\n",
    "   #os.makedirs(output_dir)"
   ]
  },
  {
   "cell_type": "markdown",
   "id": "68ff054b-00d9-4689-a5ab-581967689af9",
   "metadata": {},
   "source": [
    "Save the map to an HTML file"
   ]
  },
  {
   "cell_type": "code",
   "execution_count": null,
   "id": "c936e983-7c5e-4984-bf8d-c535f21a3a78",
   "metadata": {
    "tags": []
   },
   "outputs": [],
   "source": [
    "#m.save(output_path_html)"
   ]
  },
  {
   "cell_type": "code",
   "execution_count": null,
   "id": "2ee5dcd7-f5d6-4636-bcd5-b74444aeff04",
   "metadata": {},
   "outputs": [],
   "source": []
  }
 ],
 "metadata": {
  "kernelspec": {
   "display_name": "LandUseLandCover_Py_3_8",
   "language": "python",
   "name": "landuselandcover_py_3_8"
  },
  "language_info": {
   "codemirror_mode": {
    "name": "ipython",
    "version": 3
   },
   "file_extension": ".py",
   "mimetype": "text/x-python",
   "name": "python",
   "nbconvert_exporter": "python",
   "pygments_lexer": "ipython3",
   "version": "3.8.18"
  },
  "widgets": {
   "application/vnd.jupyter.widget-state+json": {
    "state": {},
    "version_major": 2,
    "version_minor": 0
   }
  }
 },
 "nbformat": 4,
 "nbformat_minor": 5
}
