{
 "cells": [
  {
   "cell_type": "markdown",
   "id": "46f76d9b-c890-4a8e-8b2b-5729c17f9c14",
   "metadata": {},
   "source": [
    "Script: To Create a web map for the study sites\n",
    "Name: Nathan Namatama\n",
    "Date: 2024"
   ]
  },
  {
   "cell_type": "code",
   "execution_count": 3,
   "id": "156d1fca-4c24-4b70-b899-39a342600531",
   "metadata": {
    "tags": []
   },
   "outputs": [],
   "source": [
    "import folium\n",
    "import os\n",
    "import geopandas as gpd\n",
    "import json"
   ]
  },
  {
   "cell_type": "markdown",
   "id": "bd2274f1-df43-43ca-8253-1d74d49a3813",
   "metadata": {},
   "source": [
    "Loading a Shapefile"
   ]
  },
  {
   "cell_type": "code",
   "execution_count": 4,
   "id": "2f74d573-bede-4c02-badc-db3292af7e56",
   "metadata": {
    "tags": []
   },
   "outputs": [],
   "source": [
    "shapefile_path = r'F:\\Collecting and Analysing Data\\Maps\\Shapefiles\\Selection of Study Sites\\Study_Sites_V1.shp'"
   ]
  },
  {
   "cell_type": "code",
   "execution_count": 5,
   "id": "801f737d-115d-4c66-b1c1-6a1889275f40",
   "metadata": {
    "tags": []
   },
   "outputs": [],
   "source": [
    "Study_Sites = gpd.read_file(shapefile_path)"
   ]
  },
  {
   "cell_type": "code",
   "execution_count": 6,
   "id": "6bf63a0e-f1e1-49e9-90b8-a136d53e7ac8",
   "metadata": {},
   "outputs": [
    {
     "data": {
      "text/plain": [
       "geopandas.geodataframe.GeoDataFrame"
      ]
     },
     "execution_count": 6,
     "metadata": {},
     "output_type": "execute_result"
    }
   ],
   "source": [
    "type (Study_Sites)"
   ]
  },
  {
   "cell_type": "code",
   "execution_count": 7,
   "id": "e247ba20-119a-4080-92e6-a1f75799ad59",
   "metadata": {},
   "outputs": [],
   "source": [
    "gdf = Study_Sites"
   ]
  },
  {
   "cell_type": "code",
   "execution_count": 8,
   "id": "5bbca924-23d4-4b74-b280-b36259b37b79",
   "metadata": {
    "tags": []
   },
   "outputs": [],
   "source": [
    "Geojson_output_path = r'C:\\Users\\Naznamz\\Notebook_Study_Sites\\PPCR-Phase-II-Study-Sites\\V1_Study_Sites.geojson'\n",
    "gdf.to_file(Geojson_output_path, driver='GeoJSON')"
   ]
  },
  {
   "cell_type": "code",
   "execution_count": 9,
   "id": "786f9997-b65d-47c5-a2d8-d396fd904547",
   "metadata": {
    "scrolled": true
   },
   "outputs": [
    {
     "data": {
      "text/html": [
       "<div>\n",
       "<style scoped>\n",
       "    .dataframe tbody tr th:only-of-type {\n",
       "        vertical-align: middle;\n",
       "    }\n",
       "\n",
       "    .dataframe tbody tr th {\n",
       "        vertical-align: top;\n",
       "    }\n",
       "\n",
       "    .dataframe thead th {\n",
       "        text-align: right;\n",
       "    }\n",
       "</style>\n",
       "<table border=\"1\" class=\"dataframe\">\n",
       "  <thead>\n",
       "    <tr style=\"text-align: right;\">\n",
       "      <th></th>\n",
       "      <th>ProvNo</th>\n",
       "      <th>PovName</th>\n",
       "      <th>DistNo</th>\n",
       "      <th>DistName</th>\n",
       "      <th>ConstNo</th>\n",
       "      <th>ConstName</th>\n",
       "      <th>WardNo2020</th>\n",
       "      <th>WardNm2020</th>\n",
       "      <th>CumuWardNo</th>\n",
       "      <th>Status</th>\n",
       "      <th>geometry</th>\n",
       "    </tr>\n",
       "  </thead>\n",
       "  <tbody>\n",
       "    <tr>\n",
       "      <th>0</th>\n",
       "      <td>101</td>\n",
       "      <td>CENTRAL</td>\n",
       "      <td>101001</td>\n",
       "      <td>CHIBOMBO</td>\n",
       "      <td>1010002</td>\n",
       "      <td>KEEMBE</td>\n",
       "      <td>101001018</td>\n",
       "      <td>CHITANDA</td>\n",
       "      <td>101001017</td>\n",
       "      <td>Old Ward</td>\n",
       "      <td>POLYGON ((-79859.305 8401758.557, -81656.590 8...</td>\n",
       "    </tr>\n",
       "    <tr>\n",
       "      <th>1</th>\n",
       "      <td>101</td>\n",
       "      <td>CENTRAL</td>\n",
       "      <td>101004</td>\n",
       "      <td>ITEZHI-TEZHI</td>\n",
       "      <td>1010005</td>\n",
       "      <td>ITEZH-ITEZHI</td>\n",
       "      <td>101004013</td>\n",
       "      <td>MBILA</td>\n",
       "      <td>101004013</td>\n",
       "      <td>Old Ward</td>\n",
       "      <td>POLYGON ((-221209.673 8207713.300, -221209.665...</td>\n",
       "    </tr>\n",
       "    <tr>\n",
       "      <th>2</th>\n",
       "      <td>101</td>\n",
       "      <td>CENTRAL</td>\n",
       "      <td>101004</td>\n",
       "      <td>ITEZHI-TEZHI</td>\n",
       "      <td>1010005</td>\n",
       "      <td>ITEZH-ITEZHI</td>\n",
       "      <td>101004012</td>\n",
       "      <td>LUUBWE</td>\n",
       "      <td>101004011</td>\n",
       "      <td>Old Ward</td>\n",
       "      <td>POLYGON ((-216568.218 8249224.743, -216364.507...</td>\n",
       "    </tr>\n",
       "    <tr>\n",
       "      <th>3</th>\n",
       "      <td>103</td>\n",
       "      <td>EASTERN</td>\n",
       "      <td>103008</td>\n",
       "      <td>SINDA</td>\n",
       "      <td>1030054</td>\n",
       "      <td>SINDA</td>\n",
       "      <td>103008001</td>\n",
       "      <td>NYAMASONKHO</td>\n",
       "      <td>103008005</td>\n",
       "      <td>Old Ward</td>\n",
       "      <td>POLYGON ((341533.519 8431011.746, 341714.400 8...</td>\n",
       "    </tr>\n",
       "    <tr>\n",
       "      <th>4</th>\n",
       "      <td>104</td>\n",
       "      <td>LUAPULA</td>\n",
       "      <td>104011</td>\n",
       "      <td>SAMFYA</td>\n",
       "      <td>1040069</td>\n",
       "      <td>BANGWEULU</td>\n",
       "      <td>104011005</td>\n",
       "      <td>ISAMBA</td>\n",
       "      <td>104011005</td>\n",
       "      <td>Old Ward</td>\n",
       "      <td>POLYGON ((113441.658 8719860.950, 113480.412 8...</td>\n",
       "    </tr>\n",
       "    <tr>\n",
       "      <th>5</th>\n",
       "      <td>104</td>\n",
       "      <td>LUAPULA</td>\n",
       "      <td>104010</td>\n",
       "      <td>NCHELENGE</td>\n",
       "      <td>1040068</td>\n",
       "      <td>NCHELENGE</td>\n",
       "      <td>104010002</td>\n",
       "      <td>MUNKOMBWE</td>\n",
       "      <td>104010002</td>\n",
       "      <td>Old Ward</td>\n",
       "      <td>POLYGON ((73461.189 8991952.894, 73644.498 899...</td>\n",
       "    </tr>\n",
       "    <tr>\n",
       "      <th>6</th>\n",
       "      <td>106</td>\n",
       "      <td>MUCHINGA</td>\n",
       "      <td>106009</td>\n",
       "      <td>LAVUSHIMANDA</td>\n",
       "      <td>1060091</td>\n",
       "      <td>MFUWE</td>\n",
       "      <td>106009001</td>\n",
       "      <td>LULIMALA</td>\n",
       "      <td>106005010</td>\n",
       "      <td>Old Ward</td>\n",
       "      <td>POLYGON ((258360.923 8651223.476, 258407.936 8...</td>\n",
       "    </tr>\n",
       "    <tr>\n",
       "      <th>7</th>\n",
       "      <td>106</td>\n",
       "      <td>MUCHINGA</td>\n",
       "      <td>106004</td>\n",
       "      <td>MAFINGA</td>\n",
       "      <td>1060089</td>\n",
       "      <td>MAFINGA</td>\n",
       "      <td>106004010</td>\n",
       "      <td>KALANGA</td>\n",
       "      <td>106004006</td>\n",
       "      <td>Old Ward</td>\n",
       "      <td>POLYGON ((571545.037 8836362.566, 571659.447 8...</td>\n",
       "    </tr>\n",
       "    <tr>\n",
       "      <th>8</th>\n",
       "      <td>106</td>\n",
       "      <td>MUCHINGA</td>\n",
       "      <td>106004</td>\n",
       "      <td>MAFINGA</td>\n",
       "      <td>1060089</td>\n",
       "      <td>MAFINGA</td>\n",
       "      <td>106004004</td>\n",
       "      <td>NTONGA</td>\n",
       "      <td>106004002</td>\n",
       "      <td>Old Ward</td>\n",
       "      <td>POLYGON ((536540.947 8885772.271, 536653.855 8...</td>\n",
       "    </tr>\n",
       "    <tr>\n",
       "      <th>9</th>\n",
       "      <td>106</td>\n",
       "      <td>MUCHINGA</td>\n",
       "      <td>106005</td>\n",
       "      <td>MPIKA</td>\n",
       "      <td>1060092</td>\n",
       "      <td>MPIKA</td>\n",
       "      <td>106005003</td>\n",
       "      <td>KAPAMBA</td>\n",
       "      <td>106005024</td>\n",
       "      <td>New Ward</td>\n",
       "      <td>POLYGON ((392653.746 8708435.826, 392736.863 8...</td>\n",
       "    </tr>\n",
       "    <tr>\n",
       "      <th>10</th>\n",
       "      <td>107</td>\n",
       "      <td>NORTHERN</td>\n",
       "      <td>107001</td>\n",
       "      <td>CHILUBI</td>\n",
       "      <td>1070095</td>\n",
       "      <td>CHILUBI</td>\n",
       "      <td>107001020</td>\n",
       "      <td>CHISUPA</td>\n",
       "      <td>107001005</td>\n",
       "      <td>Old Ward</td>\n",
       "      <td>POLYGON ((212609.549 8795767.528, 212907.564 8...</td>\n",
       "    </tr>\n",
       "    <tr>\n",
       "      <th>11</th>\n",
       "      <td>107</td>\n",
       "      <td>NORTHERN</td>\n",
       "      <td>107007</td>\n",
       "      <td>MPULUNGU</td>\n",
       "      <td>1070105</td>\n",
       "      <td>MPULUNGU</td>\n",
       "      <td>107007001</td>\n",
       "      <td>KAPEMBWA</td>\n",
       "      <td>107007001</td>\n",
       "      <td>Old Ward</td>\n",
       "      <td>POLYGON ((257566.763 9084046.115, 258100.678 9...</td>\n",
       "    </tr>\n",
       "    <tr>\n",
       "      <th>12</th>\n",
       "      <td>108</td>\n",
       "      <td>NORTH-WESTERN</td>\n",
       "      <td>108010</td>\n",
       "      <td>KALUMBILA</td>\n",
       "      <td>1080117</td>\n",
       "      <td>KALUMBILA</td>\n",
       "      <td>108010011</td>\n",
       "      <td>MUKUMBI</td>\n",
       "      <td>108008016</td>\n",
       "      <td>Old Ward</td>\n",
       "      <td>POLYGON ((-296455.514 8683783.901, -296350.763...</td>\n",
       "    </tr>\n",
       "    <tr>\n",
       "      <th>13</th>\n",
       "      <td>109</td>\n",
       "      <td>SOUTHERN</td>\n",
       "      <td>109009</td>\n",
       "      <td>NAMWALA</td>\n",
       "      <td>1090133</td>\n",
       "      <td>NAMWALA</td>\n",
       "      <td>109009006</td>\n",
       "      <td>NAMWALA CENTRAL</td>\n",
       "      <td>109009001</td>\n",
       "      <td>Old Ward</td>\n",
       "      <td>POLYGON ((-203875.122 8241026.759, -203878.686...</td>\n",
       "    </tr>\n",
       "    <tr>\n",
       "      <th>14</th>\n",
       "      <td>109</td>\n",
       "      <td>SOUTHERN</td>\n",
       "      <td>109004</td>\n",
       "      <td>KALOMO</td>\n",
       "      <td>1090124</td>\n",
       "      <td>DUNDUMWEZI</td>\n",
       "      <td>109004005</td>\n",
       "      <td>OMBA</td>\n",
       "      <td>109004001</td>\n",
       "      <td>Old Ward</td>\n",
       "      <td>POLYGON ((-232439.095 8171410.281, -232461.493...</td>\n",
       "    </tr>\n",
       "    <tr>\n",
       "      <th>15</th>\n",
       "      <td>110</td>\n",
       "      <td>WESTERN</td>\n",
       "      <td>110013</td>\n",
       "      <td>SESHEKE</td>\n",
       "      <td>1100153</td>\n",
       "      <td>SESHEKE</td>\n",
       "      <td>110013006</td>\n",
       "      <td>KALOBELELWA</td>\n",
       "      <td>110013007</td>\n",
       "      <td>Old Ward</td>\n",
       "      <td>POLYGON ((-459943.281 8094729.512, -459837.814...</td>\n",
       "    </tr>\n",
       "    <tr>\n",
       "      <th>16</th>\n",
       "      <td>110</td>\n",
       "      <td>WESTERN</td>\n",
       "      <td>110007</td>\n",
       "      <td>MONGU</td>\n",
       "      <td>1100146</td>\n",
       "      <td>MONGU CENTRAL</td>\n",
       "      <td>110007006</td>\n",
       "      <td>KAMA</td>\n",
       "      <td>110007011</td>\n",
       "      <td>Old Ward</td>\n",
       "      <td>POLYGON ((-580659.595 8280448.112, -580653.987...</td>\n",
       "    </tr>\n",
       "    <tr>\n",
       "      <th>17</th>\n",
       "      <td>110</td>\n",
       "      <td>WESTERN</td>\n",
       "      <td>110012</td>\n",
       "      <td>SENANGA</td>\n",
       "      <td>1100152</td>\n",
       "      <td>SENANGA</td>\n",
       "      <td>110012013</td>\n",
       "      <td>MWANAMBUYU</td>\n",
       "      <td>110012002</td>\n",
       "      <td>Old Ward</td>\n",
       "      <td>POLYGON ((-528194.479 8224449.706, -527907.283...</td>\n",
       "    </tr>\n",
       "  </tbody>\n",
       "</table>\n",
       "</div>"
      ],
      "text/plain": [
       "    ProvNo        PovName  DistNo      DistName  ConstNo      ConstName  \\\n",
       "0      101        CENTRAL  101001      CHIBOMBO  1010002         KEEMBE   \n",
       "1      101        CENTRAL  101004  ITEZHI-TEZHI  1010005   ITEZH-ITEZHI   \n",
       "2      101        CENTRAL  101004  ITEZHI-TEZHI  1010005   ITEZH-ITEZHI   \n",
       "3      103        EASTERN  103008         SINDA  1030054          SINDA   \n",
       "4      104        LUAPULA  104011        SAMFYA  1040069      BANGWEULU   \n",
       "5      104        LUAPULA  104010     NCHELENGE  1040068      NCHELENGE   \n",
       "6      106       MUCHINGA  106009  LAVUSHIMANDA  1060091          MFUWE   \n",
       "7      106       MUCHINGA  106004       MAFINGA  1060089        MAFINGA   \n",
       "8      106       MUCHINGA  106004       MAFINGA  1060089        MAFINGA   \n",
       "9      106       MUCHINGA  106005         MPIKA  1060092          MPIKA   \n",
       "10     107       NORTHERN  107001       CHILUBI  1070095        CHILUBI   \n",
       "11     107       NORTHERN  107007      MPULUNGU  1070105       MPULUNGU   \n",
       "12     108  NORTH-WESTERN  108010     KALUMBILA  1080117      KALUMBILA   \n",
       "13     109       SOUTHERN  109009       NAMWALA  1090133        NAMWALA   \n",
       "14     109       SOUTHERN  109004        KALOMO  1090124     DUNDUMWEZI   \n",
       "15     110        WESTERN  110013       SESHEKE  1100153        SESHEKE   \n",
       "16     110        WESTERN  110007         MONGU  1100146  MONGU CENTRAL   \n",
       "17     110        WESTERN  110012       SENANGA  1100152        SENANGA   \n",
       "\n",
       "    WardNo2020       WardNm2020  CumuWardNo    Status  \\\n",
       "0    101001018         CHITANDA   101001017  Old Ward   \n",
       "1    101004013            MBILA   101004013  Old Ward   \n",
       "2    101004012           LUUBWE   101004011  Old Ward   \n",
       "3    103008001      NYAMASONKHO   103008005  Old Ward   \n",
       "4    104011005           ISAMBA   104011005  Old Ward   \n",
       "5    104010002        MUNKOMBWE   104010002  Old Ward   \n",
       "6    106009001         LULIMALA   106005010  Old Ward   \n",
       "7    106004010          KALANGA   106004006  Old Ward   \n",
       "8    106004004           NTONGA   106004002  Old Ward   \n",
       "9    106005003          KAPAMBA   106005024  New Ward   \n",
       "10   107001020          CHISUPA   107001005  Old Ward   \n",
       "11   107007001         KAPEMBWA   107007001  Old Ward   \n",
       "12   108010011          MUKUMBI   108008016  Old Ward   \n",
       "13   109009006  NAMWALA CENTRAL   109009001  Old Ward   \n",
       "14   109004005             OMBA   109004001  Old Ward   \n",
       "15   110013006      KALOBELELWA   110013007  Old Ward   \n",
       "16   110007006             KAMA   110007011  Old Ward   \n",
       "17   110012013       MWANAMBUYU   110012002  Old Ward   \n",
       "\n",
       "                                             geometry  \n",
       "0   POLYGON ((-79859.305 8401758.557, -81656.590 8...  \n",
       "1   POLYGON ((-221209.673 8207713.300, -221209.665...  \n",
       "2   POLYGON ((-216568.218 8249224.743, -216364.507...  \n",
       "3   POLYGON ((341533.519 8431011.746, 341714.400 8...  \n",
       "4   POLYGON ((113441.658 8719860.950, 113480.412 8...  \n",
       "5   POLYGON ((73461.189 8991952.894, 73644.498 899...  \n",
       "6   POLYGON ((258360.923 8651223.476, 258407.936 8...  \n",
       "7   POLYGON ((571545.037 8836362.566, 571659.447 8...  \n",
       "8   POLYGON ((536540.947 8885772.271, 536653.855 8...  \n",
       "9   POLYGON ((392653.746 8708435.826, 392736.863 8...  \n",
       "10  POLYGON ((212609.549 8795767.528, 212907.564 8...  \n",
       "11  POLYGON ((257566.763 9084046.115, 258100.678 9...  \n",
       "12  POLYGON ((-296455.514 8683783.901, -296350.763...  \n",
       "13  POLYGON ((-203875.122 8241026.759, -203878.686...  \n",
       "14  POLYGON ((-232439.095 8171410.281, -232461.493...  \n",
       "15  POLYGON ((-459943.281 8094729.512, -459837.814...  \n",
       "16  POLYGON ((-580659.595 8280448.112, -580653.987...  \n",
       "17  POLYGON ((-528194.479 8224449.706, -527907.283...  "
      ]
     },
     "execution_count": 9,
     "metadata": {},
     "output_type": "execute_result"
    }
   ],
   "source": [
    "gdf"
   ]
  },
  {
   "cell_type": "markdown",
   "id": "a72546c0-3407-43f7-a90a-bf3c1d881e98",
   "metadata": {},
   "source": [
    "Create a Folium map centered at a specific location"
   ]
  },
  {
   "cell_type": "code",
   "execution_count": 14,
   "id": "a73da687-aada-4759-9463-91000a3ebc2e",
   "metadata": {
    "tags": []
   },
   "outputs": [
    {
     "data": {
      "text/html": [
       "<div style=\"width:100%;\"><div style=\"position:relative;width:100%;height:0;padding-bottom:60%;\"><span style=\"color:#565656\">Make this Notebook Trusted to load map: File -> Trust Notebook</span><iframe srcdoc=\"&lt;!DOCTYPE html&gt;\n",
       "&lt;html&gt;\n",
       "&lt;head&gt;\n",
       "    \n",
       "    &lt;meta http-equiv=&quot;content-type&quot; content=&quot;text/html; charset=UTF-8&quot; /&gt;\n",
       "    \n",
       "        &lt;script&gt;\n",
       "            L_NO_TOUCH = false;\n",
       "            L_DISABLE_3D = false;\n",
       "        &lt;/script&gt;\n",
       "    \n",
       "    &lt;style&gt;html, body {width: 100%;height: 100%;margin: 0;padding: 0;}&lt;/style&gt;\n",
       "    &lt;style&gt;#map {position:absolute;top:0;bottom:0;right:0;left:0;}&lt;/style&gt;\n",
       "    &lt;script src=&quot;https://cdn.jsdelivr.net/npm/leaflet@1.9.3/dist/leaflet.js&quot;&gt;&lt;/script&gt;\n",
       "    &lt;script src=&quot;https://code.jquery.com/jquery-1.12.4.min.js&quot;&gt;&lt;/script&gt;\n",
       "    &lt;script src=&quot;https://cdn.jsdelivr.net/npm/bootstrap@5.2.2/dist/js/bootstrap.bundle.min.js&quot;&gt;&lt;/script&gt;\n",
       "    &lt;script src=&quot;https://cdnjs.cloudflare.com/ajax/libs/Leaflet.awesome-markers/2.0.2/leaflet.awesome-markers.js&quot;&gt;&lt;/script&gt;\n",
       "    &lt;link rel=&quot;stylesheet&quot; href=&quot;https://cdn.jsdelivr.net/npm/leaflet@1.9.3/dist/leaflet.css&quot;/&gt;\n",
       "    &lt;link rel=&quot;stylesheet&quot; href=&quot;https://cdn.jsdelivr.net/npm/bootstrap@5.2.2/dist/css/bootstrap.min.css&quot;/&gt;\n",
       "    &lt;link rel=&quot;stylesheet&quot; href=&quot;https://netdna.bootstrapcdn.com/bootstrap/3.0.0/css/bootstrap.min.css&quot;/&gt;\n",
       "    &lt;link rel=&quot;stylesheet&quot; href=&quot;https://cdn.jsdelivr.net/npm/@fortawesome/fontawesome-free@6.2.0/css/all.min.css&quot;/&gt;\n",
       "    &lt;link rel=&quot;stylesheet&quot; href=&quot;https://cdnjs.cloudflare.com/ajax/libs/Leaflet.awesome-markers/2.0.2/leaflet.awesome-markers.css&quot;/&gt;\n",
       "    &lt;link rel=&quot;stylesheet&quot; href=&quot;https://cdn.jsdelivr.net/gh/python-visualization/folium/folium/templates/leaflet.awesome.rotate.min.css&quot;/&gt;\n",
       "    \n",
       "            &lt;meta name=&quot;viewport&quot; content=&quot;width=device-width,\n",
       "                initial-scale=1.0, maximum-scale=1.0, user-scalable=no&quot; /&gt;\n",
       "            &lt;style&gt;\n",
       "                #map_ec6a5ea2279a771c006ae27b511e1dc2 {\n",
       "                    position: relative;\n",
       "                    width: 100.0%;\n",
       "                    height: 700.0px;\n",
       "                    left: 0.0%;\n",
       "                    top: 0.0%;\n",
       "                }\n",
       "                .leaflet-container { font-size: 1rem; }\n",
       "            &lt;/style&gt;\n",
       "        \n",
       "&lt;/head&gt;\n",
       "&lt;body&gt;\n",
       "    \n",
       "    \n",
       "            &lt;div class=&quot;folium-map&quot; id=&quot;map_ec6a5ea2279a771c006ae27b511e1dc2&quot; &gt;&lt;/div&gt;\n",
       "        \n",
       "&lt;/body&gt;\n",
       "&lt;script&gt;\n",
       "    \n",
       "    \n",
       "            var map_ec6a5ea2279a771c006ae27b511e1dc2 = L.map(\n",
       "                &quot;map_ec6a5ea2279a771c006ae27b511e1dc2&quot;,\n",
       "                {\n",
       "                    center: [-14.0, 30.0],\n",
       "                    crs: L.CRS.EPSG3857,\n",
       "                    zoom: 6,\n",
       "                    zoomControl: true,\n",
       "                    preferCanvas: false,\n",
       "                }\n",
       "            );\n",
       "\n",
       "            \n",
       "\n",
       "        \n",
       "    \n",
       "            var tile_layer_b5a6d16ac7e3981ecfbe17969ad084b3 = L.tileLayer(\n",
       "                &quot;https://{s}.tile.openstreetmap.org/{z}/{x}/{y}.png&quot;,\n",
       "                {&quot;attribution&quot;: &quot;Data by \\u0026copy; \\u003ca target=\\&quot;_blank\\&quot; href=\\&quot;http://openstreetmap.org\\&quot;\\u003eOpenStreetMap\\u003c/a\\u003e, under \\u003ca target=\\&quot;_blank\\&quot; href=\\&quot;http://www.openstreetmap.org/copyright\\&quot;\\u003eODbL\\u003c/a\\u003e.&quot;, &quot;detectRetina&quot;: false, &quot;maxNativeZoom&quot;: 18, &quot;maxZoom&quot;: 18, &quot;minZoom&quot;: 0, &quot;noWrap&quot;: false, &quot;opacity&quot;: 1, &quot;subdomains&quot;: &quot;abc&quot;, &quot;tms&quot;: false}\n",
       "            ).addTo(map_ec6a5ea2279a771c006ae27b511e1dc2);\n",
       "        \n",
       "    \n",
       "            var layer_control_8096ea5056282d3697c3660c79421b84 = {\n",
       "                base_layers : {\n",
       "                    &quot;openstreetmap&quot; : tile_layer_b5a6d16ac7e3981ecfbe17969ad084b3,\n",
       "                },\n",
       "                overlays :  {\n",
       "                },\n",
       "            };\n",
       "            L.control.layers(\n",
       "                layer_control_8096ea5056282d3697c3660c79421b84.base_layers,\n",
       "                layer_control_8096ea5056282d3697c3660c79421b84.overlays,\n",
       "                {&quot;autoZIndex&quot;: true, &quot;collapsed&quot;: true, &quot;position&quot;: &quot;topright&quot;}\n",
       "            ).addTo(map_ec6a5ea2279a771c006ae27b511e1dc2);\n",
       "        \n",
       "&lt;/script&gt;\n",
       "&lt;/html&gt;\" style=\"position:absolute;width:100%;height:100%;left:0;top:0;border:none !important;\" allowfullscreen webkitallowfullscreen mozallowfullscreen></iframe></div></div>"
      ],
      "text/plain": [
       "<folium.folium.Map at 0x15333e09ac0>"
      ]
     },
     "execution_count": 14,
     "metadata": {},
     "output_type": "execute_result"
    }
   ],
   "source": [
    "m = folium.Map(height=700, location=[-14, 30], zoom_start=6)\n",
    "folium.LayerControl().add_to(m)\n",
    "tooltip = folium.features.GeoJsonTooltip(fields=['DistName', 'WardNm2020'], labels=True, sticky=False)\n",
    "#folium.GeoJson(Geojson_output_path).add_to(m)\n",
    "##folium.GeoJson(gdf, tooltip=tooltip).add_to(m))\n",
    "m"
   ]
  },
  {
   "cell_type": "markdown",
   "id": "c8f544e9-8ff5-4c43-ac4f-6e84015441f8",
   "metadata": {},
   "source": [
    "Add shapefile data to the map"
   ]
  },
  {
   "cell_type": "markdown",
   "id": "f1cc6a50-9d11-4441-9678-b9ae52ecb11f",
   "metadata": {},
   "source": [
    " Add tiles as background"
   ]
  },
  {
   "cell_type": "code",
   "execution_count": 75,
   "id": "bd973c6e-8ae0-4e37-b157-b97d26f6a7e0",
   "metadata": {
    "scrolled": true,
    "tags": []
   },
   "outputs": [
    {
     "data": {
      "text/plain": [
       "<folium.map.Popup at 0x17546aeab80>"
      ]
     },
     "execution_count": 75,
     "metadata": {},
     "output_type": "execute_result"
    }
   ],
   "source": [
    "html = Study_Sites.to_html()\n",
    "popup = folium.Popup(html)\n",
    "popup.add_to(m)"
   ]
  },
  {
   "cell_type": "markdown",
   "id": "419aaeba-be40-4b7f-a939-1078e18d50bb",
   "metadata": {},
   "source": [
    "Specify the path where you want to save the map HTML file"
   ]
  },
  {
   "cell_type": "code",
   "execution_count": 76,
   "id": "316aac54-9edb-4299-8076-8f637f4a9434",
   "metadata": {
    "tags": []
   },
   "outputs": [],
   "source": [
    "output_path_html = r'C:\\Users\\Naznamz\\Notebook_Study_Sites\\PPCR-Phase-II-Study-Sites\\V1_Study_Sites.html'"
   ]
  },
  {
   "cell_type": "markdown",
   "id": "c1742ea2-83b7-46e0-89a1-dec1ab7b641b",
   "metadata": {},
   "source": [
    "Ensure the directory exists, if not create it"
   ]
  },
  {
   "cell_type": "code",
   "execution_count": 77,
   "id": "01ee6279-2e52-4c92-928c-62d38f6cc361",
   "metadata": {
    "tags": []
   },
   "outputs": [],
   "source": [
    "output_dir = os.path.dirname(output_path)\n",
    "if not os.path.exists(output_dir):\n",
    "    os.makedirs(output_dir)"
   ]
  },
  {
   "cell_type": "markdown",
   "id": "68ff054b-00d9-4689-a5ab-581967689af9",
   "metadata": {},
   "source": [
    "Save the map to an HTML file"
   ]
  },
  {
   "cell_type": "code",
   "execution_count": 78,
   "id": "c936e983-7c5e-4984-bf8d-c535f21a3a78",
   "metadata": {
    "tags": []
   },
   "outputs": [],
   "source": [
    "m.save(output_path_html)"
   ]
  }
 ],
 "metadata": {
  "kernelspec": {
   "display_name": "LandUseLandCover_Py_3_8",
   "language": "python",
   "name": "landuselandcover_py_3_8"
  },
  "language_info": {
   "codemirror_mode": {
    "name": "ipython",
    "version": 3
   },
   "file_extension": ".py",
   "mimetype": "text/x-python",
   "name": "python",
   "nbconvert_exporter": "python",
   "pygments_lexer": "ipython3",
   "version": "3.8.18"
  },
  "widgets": {
   "application/vnd.jupyter.widget-state+json": {
    "state": {},
    "version_major": 2,
    "version_minor": 0
   }
  }
 },
 "nbformat": 4,
 "nbformat_minor": 5
}
